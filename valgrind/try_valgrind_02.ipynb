{
 "cells": [
  {
   "cell_type": "markdown",
   "metadata": {},
   "source": [
    "# Tutorial from [gprof valgrind gperftools - an evaluation tools application level cpu profiling linux](http://gernotklingler.com/blog/gprof-valgrind-gperftools-evaluation-tools-application-level-cpu-profiling-linux/)"
   ]
  },
  {
   "cell_type": "markdown",
   "metadata": {},
   "source": [
    "CPU Profiling Demo code"
   ]
  },
  {
   "cell_type": "code",
   "execution_count": 1,
   "metadata": {},
   "outputs": [],
   "source": [
    "cat > cpuload.cpp << EOF\n",
    "#include <vector>\n",
    "#include <iostream>\n",
    "\n",
    "#ifdef WITHGPERFTOOLS\n",
    "#include <gperftools/profiler.h>\n",
    "#endif\n",
    "\n",
    "using namespace std;\n",
    "\n",
    "int foo(vector<int> v) {\n",
    "    int result = 0;\n",
    "    for(auto x: v) {\n",
    "        result += x;\n",
    "    }\n",
    "    return result % 1000;\n",
    "}\n",
    "\n",
    "int main() {\n",
    "#ifdef WITHGPERFTOOLS\n",
    "    ProfilerStart(\"profile.log\");\n",
    "#endif\n",
    "    vector<int> v;\n",
    "    v.push_back(1);\n",
    "    \n",
    "    int result = 0;\n",
    "    for (int i=0; i<10000; i++) {\n",
    "        result = foo(v);\n",
    "        v.push_back(result);\n",
    "    }\n",
    "#ifdef WITHGPERFTOOLS\n",
    "    ProfilerStop();\n",
    "#endif\n",
    "    cout << result << \"\\n\";\n",
    "    return 1;\n",
    "}\n",
    "EOF"
   ]
  },
  {
   "cell_type": "markdown",
   "metadata": {},
   "source": [
    "build the program (no special flags are needed)"
   ]
  },
  {
   "cell_type": "code",
   "execution_count": 2,
   "metadata": {},
   "outputs": [],
   "source": [
    "g++ cpuload.cpp -o cpuload"
   ]
  },
  {
   "cell_type": "markdown",
   "metadata": {},
   "source": [
    "run the program with callgrind; generates a file callgrind.out that can be viewed with kcachegrind"
   ]
  },
  {
   "cell_type": "code",
   "execution_count": 3,
   "metadata": {},
   "outputs": [
    {
     "name": "stdout",
     "output_type": "stream",
     "text": [
      "==5243== Callgrind, a call-graph generating cache profiler\n",
      "==5243== Copyright (C) 2002-2017, and GNU GPL'd, by Josef Weidendorfer et al.\n",
      "==5243== Using Valgrind-3.13.0 and LibVEX; rerun with -h for copyright info\n",
      "==5243== Command: ./cpuload\n",
      "==5243== \n",
      "==5243== For interactive control, run 'callgrind_control -h'.\n",
      "688\n",
      "==5243== \n",
      "==5243== Events    : Ir\n",
      "==5243== Collected : 3614622813\n",
      "==5243== \n",
      "==5243== I   refs:      3,614,622,813\n"
     ]
    },
    {
     "ename": "",
     "evalue": "1",
     "output_type": "error",
     "traceback": []
    }
   ],
   "source": [
    "valgrind --tool=callgrind ./cpuload"
   ]
  },
  {
   "cell_type": "code",
   "execution_count": 5,
   "metadata": {},
   "outputs": [
    {
     "name": "stdout",
     "output_type": "stream",
     "text": [
      "callgrind.out.1036  cpuload.cpp      try_gprof_01.ipynb  try_valgrind_01.ipynb\n",
      "callgrind.out.5243  hello_world      try_valg01.cpp      try_valgrind_02.ipynb\n",
      "cpuload             hello_world.cpp  try_valg01.out\n"
     ]
    }
   ],
   "source": [
    "ls"
   ]
  }
 ],
 "metadata": {
  "kernelspec": {
   "display_name": "Bash",
   "language": "bash",
   "name": "bash"
  },
  "language_info": {
   "codemirror_mode": "shell",
   "file_extension": ".sh",
   "mimetype": "text/x-sh",
   "name": "bash"
  }
 },
 "nbformat": 4,
 "nbformat_minor": 2
}
