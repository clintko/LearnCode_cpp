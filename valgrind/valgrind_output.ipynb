{
 "cells": [
  {
   "cell_type": "markdown",
   "metadata": {},
   "source": [
    "# Reference\n",
    "- https://web.stanford.edu/class/cs107/guide/callgrind.html\n",
    "- https://waterprogramming.wordpress.com/2017/06/08/profiling-c-code-with-callgrind/"
   ]
  },
  {
   "cell_type": "markdown",
   "metadata": {},
   "source": [
    "remove all callgrind output"
   ]
  },
  {
   "cell_type": "code",
   "execution_count": 14,
   "metadata": {},
   "outputs": [],
   "source": [
    "rm callgrind.out*"
   ]
  },
  {
   "cell_type": "code",
   "execution_count": 15,
   "metadata": {},
   "outputs": [
    {
     "name": "stdout",
     "output_type": "stream",
     "text": [
      "cpuload      hello_world.cpp     try_valg01.out         valgrind_output.ipynb\n",
      "cpuload.cpp  try_gprof_01.ipynb  try_valgrind_01.ipynb\n",
      "hello_world  try_valg01.cpp      try_valgrind_02.ipynb\n"
     ]
    }
   ],
   "source": [
    "ls"
   ]
  },
  {
   "cell_type": "markdown",
   "metadata": {},
   "source": [
    "Create a program"
   ]
  },
  {
   "cell_type": "code",
   "execution_count": 5,
   "metadata": {},
   "outputs": [],
   "source": [
    "cat > hello_world.cpp << EOF\n",
    "#include <iostream>\n",
    "using namespace std;\n",
    "\n",
    "int main() \n",
    "{\n",
    "    cout << \"Hello, World!\";\n",
    "    return 0;\n",
    "}\n",
    "\n",
    "EOF"
   ]
  },
  {
   "cell_type": "markdown",
   "metadata": {},
   "source": [
    "compile and execute"
   ]
  },
  {
   "cell_type": "code",
   "execution_count": 6,
   "metadata": {},
   "outputs": [],
   "source": [
    "g++ hello_world.cpp -o hello_world"
   ]
  },
  {
   "cell_type": "code",
   "execution_count": 8,
   "metadata": {},
   "outputs": [
    {
     "name": "stdout",
     "output_type": "stream",
     "text": [
      "Hello, World!"
     ]
    }
   ],
   "source": [
    "./hello_world"
   ]
  },
  {
   "cell_type": "markdown",
   "metadata": {},
   "source": [
    "# Profiling"
   ]
  },
  {
   "cell_type": "code",
   "execution_count": 16,
   "metadata": {},
   "outputs": [
    {
     "name": "stdout",
     "output_type": "stream",
     "text": [
      "==8038== Callgrind, a call-graph generating cache profiler\n",
      "==8038== Copyright (C) 2002-2017, and GNU GPL'd, by Josef Weidendorfer et al.\n",
      "==8038== Using Valgrind-3.13.0 and LibVEX; rerun with -h for copyright info\n",
      "==8038== Command: ./hello_world\n",
      "==8038== \n",
      "==8038== For interactive control, run 'callgrind_control -h'.\n",
      "Hello, World!==8038== \n",
      "==8038== Events    : Ir\n",
      "==8038== Collected : 2144907\n",
      "==8038== \n",
      "==8038== I   refs:      2,144,907\n"
     ]
    }
   ],
   "source": [
    "valgrind --tool=callgrind ./hello_world"
   ]
  },
  {
   "cell_type": "code",
   "execution_count": 17,
   "metadata": {},
   "outputs": [
    {
     "name": "stdout",
     "output_type": "stream",
     "text": [
      "callgrind.out.8038  hello_world.cpp     try_valgrind_01.ipynb\n",
      "cpuload             try_gprof_01.ipynb  try_valgrind_02.ipynb\n",
      "cpuload.cpp         try_valg01.cpp      valgrind_output.ipynb\n",
      "hello_world         try_valg01.out\n"
     ]
    }
   ],
   "source": [
    "ls"
   ]
  },
  {
   "cell_type": "markdown",
   "metadata": {},
   "source": [
    "# Profiling --simulate-cache=yes"
   ]
  },
  {
   "cell_type": "markdown",
   "metadata": {},
   "source": [
    "In order to additionally monitor cache hits/misses, invoke valgrind callgrind with the `--simulate-cache=yes` option"
   ]
  },
  {
   "cell_type": "code",
   "execution_count": 18,
   "metadata": {},
   "outputs": [
    {
     "name": "stdout",
     "output_type": "stream",
     "text": [
      "==8040== Callgrind, a call-graph generating cache profiler\n",
      "==8040== Copyright (C) 2002-2017, and GNU GPL'd, by Josef Weidendorfer et al.\n",
      "==8040== Using Valgrind-3.13.0 and LibVEX; rerun with -h for copyright info\n",
      "==8040== Command: ./hello_world\n",
      "==8040== \n",
      "--8040-- warning: L3 cache found, using its data for the LL simulation.\n",
      "==8040== For interactive control, run 'callgrind_control -h'.\n",
      "Hello, World!==8040== \n",
      "==8040== Events    : Ir Dr Dw I1mr D1mr D1mw ILmr DLmr DLmw\n",
      "==8040== Collected : 2144907 519841 164633 1689 13562 2410 1611 7778 1580\n",
      "==8040== \n",
      "==8040== I   refs:      2,144,907\n",
      "==8040== I1  misses:        1,689\n",
      "==8040== LLi misses:        1,611\n",
      "==8040== I1  miss rate:      0.08%\n",
      "==8040== LLi miss rate:      0.08%\n",
      "==8040== \n",
      "==8040== D   refs:        684,474  (519,841 rd + 164,633 wr)\n",
      "==8040== D1  misses:       15,972  ( 13,562 rd +   2,410 wr)\n",
      "==8040== LLd misses:        9,358  (  7,778 rd +   1,580 wr)\n",
      "==8040== D1  miss rate:       2.3% (    2.6%   +     1.5%  )\n",
      "==8040== LLd miss rate:       1.4% (    1.5%   +     1.0%  )\n",
      "==8040== \n",
      "==8040== LL refs:          17,661  ( 15,251 rd +   2,410 wr)\n",
      "==8040== LL misses:        10,969  (  9,389 rd +   1,580 wr)\n",
      "==8040== LL miss rate:        0.4% (    0.4%   +     1.0%  )\n"
     ]
    }
   ],
   "source": [
    "valgrind --tool=callgrind --simulate-cache=yes ./hello_world"
   ]
  },
  {
   "cell_type": "code",
   "execution_count": 19,
   "metadata": {},
   "outputs": [
    {
     "name": "stdout",
     "output_type": "stream",
     "text": [
      "callgrind.out.8038  cpuload.cpp      try_gprof_01.ipynb  try_valgrind_01.ipynb\n",
      "callgrind.out.8040  hello_world      try_valg01.cpp      try_valgrind_02.ipynb\n",
      "cpuload             hello_world.cpp  try_valg01.out      valgrind_output.ipynb\n"
     ]
    }
   ],
   "source": [
    "ls"
   ]
  },
  {
   "cell_type": "markdown",
   "metadata": {},
   "source": [
    "# Read the output"
   ]
  },
  {
   "cell_type": "markdown",
   "metadata": {},
   "source": [
    "the output of the callgrind `callgrind.out.pid`"
   ]
  },
  {
   "cell_type": "code",
   "execution_count": 20,
   "metadata": {},
   "outputs": [
    {
     "name": "stdout",
     "output_type": "stream",
     "text": [
      "--------------------------------------------------------------------------------\n",
      "Profile data file 'callgrind.out.8038' (creator: callgrind-3.13.0)\n",
      "--------------------------------------------------------------------------------\n",
      "I1 cache: \n",
      "D1 cache: \n",
      "LL cache: \n",
      "Timerange: Basic block 0 - 356790\n",
      "Trigger: Program termination\n",
      "Profiled target:  ./hello_world (PID 8038, part 1)\n",
      "Events recorded:  Ir\n",
      "Events shown:     Ir\n",
      "Event sort order: Ir\n",
      "Thresholds:       99\n",
      "Include dirs:     \n",
      "User annotated:   \n",
      "Auto-annotation:  on\n",
      "\n",
      "--------------------------------------------------------------------------------\n",
      "       Ir \n",
      "--------------------------------------------------------------------------------\n",
      "2,144,907  PROGRAM TOTALS\n",
      "\n",
      "--------------------------------------------------------------------------------\n",
      "     Ir  file:function\n",
      "--------------------------------------------------------------------------------\n",
      "928,198  /build/glibc-OTsEL5/glibc-2.27/elf/dl-lookup.c:_dl_lookup_symbol_x [/lib/x86_64-linux-gnu/ld-2.27.so]\n",
      "606,848  /build/glibc-OTsEL5/glibc-2.27/elf/dl-lookup.c:do_lookup_x [/lib/x86_64-linux-gnu/ld-2.27.so]\n",
      "256,378  /build/glibc-OTsEL5/glibc-2.27/elf/../sysdeps/x86_64/dl-machine.h:_dl_relocate_object\n",
      " 85,538  /build/glibc-OTsEL5/glibc-2.27/elf/do-rel.h:_dl_relocate_object\n",
      " 73,390  /build/glibc-OTsEL5/glibc-2.27/string/../sysdeps/x86_64/strcmp.S:strcmp [/lib/x86_64-linux-gnu/ld-2.27.so]\n",
      " 59,305  /build/glibc-OTsEL5/glibc-2.27/elf/dl-addr.c:_dl_addr [/lib/x86_64-linux-gnu/libc-2.27.so]\n",
      " 10,954  ???:std::locale::_Impl::_M_install_facet(std::locale::id const*, std::locale::facet const*) [/usr/lib/x86_64-linux-gnu/libstdc++.so.6.0.25]\n",
      "  9,708  /build/glibc-OTsEL5/glibc-2.27/elf/../sysdeps/generic/ldsodefs.h:_dl_relocate_object\n",
      "  8,192  /build/glibc-OTsEL5/glibc-2.27/wcsmbs/btowc.c:btowc [/lib/x86_64-linux-gnu/libc-2.27.so]\n",
      "  8,172  /build/glibc-OTsEL5/glibc-2.27/elf/dl-tunables.c:__GI___tunables_init [/lib/x86_64-linux-gnu/ld-2.27.so]\n",
      "  6,801  /build/glibc-OTsEL5/glibc-2.27/elf/dl-version.c:_dl_check_map_versions [/lib/x86_64-linux-gnu/ld-2.27.so]\n",
      "  6,252  /build/glibc-OTsEL5/glibc-2.27/elf/../sysdeps/generic/ldsodefs.h:do_lookup_x\n",
      "  5,928  /build/glibc-OTsEL5/glibc-2.27/elf/../elf/dl-runtime.c:_dl_fixup [/lib/x86_64-linux-gnu/ld-2.27.so]\n",
      "  5,418  /build/glibc-OTsEL5/glibc-2.27/elf/dl-misc.c:_dl_name_match_p [/lib/x86_64-linux-gnu/ld-2.27.so]\n",
      "  3,200  /build/glibc-OTsEL5/glibc-2.27/wcsmbs/wctob.c:wctob [/lib/x86_64-linux-gnu/libc-2.27.so]\n",
      "  3,146  ???:std::ctype<wchar_t>::_M_initialize_ctype() [/usr/lib/x86_64-linux-gnu/libstdc++.so.6.0.25]\n",
      "  2,948  /build/glibc-OTsEL5/glibc-2.27/elf/dl-cache.c:_dl_cache_libcmp [/lib/x86_64-linux-gnu/ld-2.27.so]\n",
      "  2,560  /build/glibc-OTsEL5/glibc-2.27/elf/../sysdeps/x86_64/dl-trampoline.h:_dl_runtime_resolve_xsave'2 [/lib/x86_64-linux-gnu/ld-2.27.so]\n",
      "  2,496  ???:__dynamic_cast [/usr/lib/x86_64-linux-gnu/libstdc++.so.6.0.25]\n",
      "  2,198  /build/glibc-OTsEL5/glibc-2.27/elf/dl-tunables.h:__GI___tunables_init\n",
      "  2,194  /build/glibc-OTsEL5/glibc-2.27/elf/dl-deps.c:_dl_map_object_deps [/lib/x86_64-linux-gnu/ld-2.27.so]\n",
      "  2,094  /build/glibc-OTsEL5/glibc-2.27/elf/dl-load.c:_dl_map_object_from_fd [/lib/x86_64-linux-gnu/ld-2.27.so]\n",
      "  1,902  /build/glibc-OTsEL5/glibc-2.27/elf/dl-load.c:_dl_map_object [/lib/x86_64-linux-gnu/ld-2.27.so]\n",
      "  1,567  /build/glibc-OTsEL5/glibc-2.27/elf/dl-sort-maps.c:_dl_sort_maps [/lib/x86_64-linux-gnu/ld-2.27.so]\n",
      "  1,530  /build/glibc-OTsEL5/glibc-2.27/elf/get-dynamic-info.h:_dl_map_object_from_fd\n",
      "  1,400  ???:__cxxabiv1::__si_class_type_info::__do_dyncast(long, __cxxabiv1::__class_type_info::__sub_kind, __cxxabiv1::__class_type_info const*, void const*, __cxxabiv1::__class_type_info const*, void const*, __cxxabiv1::__class_type_info::__dyncast_result&) const [/usr/lib/x86_64-linux-gnu/libstdc++.so.6.0.25]\n",
      "  1,353  /build/glibc-OTsEL5/glibc-2.27/elf/dl-load.c:open_verify.constprop.7 [/lib/x86_64-linux-gnu/ld-2.27.so]\n",
      "  1,214  /build/glibc-OTsEL5/glibc-2.27/elf/dl-cache.c:_dl_load_cache_lookup [/lib/x86_64-linux-gnu/ld-2.27.so]\n",
      "  1,167  /build/glibc-OTsEL5/glibc-2.27/elf/dl-object.c:_dl_new_object [/lib/x86_64-linux-gnu/ld-2.27.so]\n",
      "  1,143  /build/glibc-OTsEL5/glibc-2.27/wctype/wctype_l.c:wctype_l [/lib/x86_64-linux-gnu/libc-2.27.so]\n",
      "  1,119  /build/glibc-OTsEL5/glibc-2.27/string/../sysdeps/x86_64/multiarch/strlen-avx2.S:__strlen_avx2 [/lib/x86_64-linux-gnu/libc-2.27.so]\n",
      "  1,110  /build/glibc-OTsEL5/glibc-2.27/elf/dl-load.c:open_path [/lib/x86_64-linux-gnu/ld-2.27.so]\n",
      "  1,101  ???:std::locale::_Impl::_Impl(unsigned long) [/usr/lib/x86_64-linux-gnu/libstdc++.so.6.0.25]\n",
      "  1,058  /build/glibc-OTsEL5/glibc-2.27/string/../sysdeps/x86_64/multiarch/memcmp-avx2-movbe.S:__memcmp_avx2_movbe [/lib/x86_64-linux-gnu/libc-2.27.so]\n",
      "  1,024  /build/glibc-OTsEL5/glibc-2.27/wcsmbs/./wcsmbsload.h:btowc\n",
      "  1,007  /build/glibc-OTsEL5/glibc-2.27/elf/rtld.c:dl_main [/lib/x86_64-linux-gnu/ld-2.27.so]\n",
      "    954  ???:std::locale::id::_M_id() const [/usr/lib/x86_64-linux-gnu/libstdc++.so.6.0.25]\n",
      "    886  /build/glibc-OTsEL5/glibc-2.27/malloc/malloc.c:ptmalloc_init.part.0\n",
      "    851  /build/glibc-OTsEL5/glibc-2.27/elf/dl-reloc.c:_dl_relocate_object [/lib/x86_64-linux-gnu/ld-2.27.so]\n",
      "    805  /build/glibc-OTsEL5/glibc-2.27/elf/dl-minimal.c:malloc [/lib/x86_64-linux-gnu/ld-2.27.so]\n",
      "    775  /build/glibc-OTsEL5/glibc-2.27/string/../sysdeps/x86_64/multiarch/memset-vec-unaligned-erms.S:memset [/lib/x86_64-linux-gnu/ld-2.27.so]\n",
      "    767  /build/glibc-OTsEL5/glibc-2.27/string/../sysdeps/x86/cacheinfo.c:intel_check_word.isra.0 [/lib/x86_64-linux-gnu/libc-2.27.so]\n",
      "    734  /build/glibc-OTsEL5/glibc-2.27/string/../sysdeps/x86_64/multiarch/../strlen.S:strlen [/lib/x86_64-linux-gnu/ld-2.27.so]\n",
      "    640  /build/glibc-OTsEL5/glibc-2.27/iconv/gconv_simple.c:__gconv_btwoc_ascii [/lib/x86_64-linux-gnu/libc-2.27.so]\n",
      "    582  /build/glibc-OTsEL5/glibc-2.27/string/../bits/stdlib-bsearch.h:intel_check_word.isra.0\n",
      "    575  /build/glibc-OTsEL5/glibc-2.27/elf/dl-hwcaps.c:_dl_important_hwcaps [/lib/x86_64-linux-gnu/ld-2.27.so]\n",
      "    575  /build/glibc-OTsEL5/glibc-2.27/stdlib/cxa_finalize.c:__cxa_finalize [/lib/x86_64-linux-gnu/libc-2.27.so]\n",
      "    560  /build/glibc-OTsEL5/glibc-2.27/elf/../sysdeps/x86_64/dl-trampoline.h:_dl_runtime_resolve_xsave [/lib/x86_64-linux-gnu/ld-2.27.so]\n",
      "    556  /build/glibc-OTsEL5/glibc-2.27/misc/../sysdeps/unix/sysv/linux/mmap64.c:mmap [/lib/x86_64-linux-gnu/ld-2.27.so]\n",
      "    540  ???:__cxxabiv1::__vmi_class_type_info::__do_dyncast(long, __cxxabiv1::__class_type_info::__sub_kind, __cxxabiv1::__class_type_info const*, void const*, __cxxabiv1::__class_type_info const*, void const*, __cxxabiv1::__class_type_info::__dyncast_result&) const [/usr/lib/x86_64-linux-gnu/libstdc++.so.6.0.25]\n",
      "    529  /build/glibc-OTsEL5/glibc-2.27/string/../sysdeps/x86_64/multiarch/memmove-vec-unaligned-erms.S:memcpy [/lib/x86_64-linux-gnu/ld-2.27.so]\n",
      "    515  /build/glibc-OTsEL5/glibc-2.27/string/../sysdeps/x86_64/multiarch/memmove-vec-unaligned-erms.S:mempcpy [/lib/x86_64-linux-gnu/ld-2.27.so]\n",
      "    512  /build/glibc-OTsEL5/glibc-2.27/elf/dl-profstub.c:_dl_mcount_wrapper_check [/lib/x86_64-linux-gnu/libc-2.27.so]\n",
      "    506  ???:std::locale::locale() [/usr/lib/x86_64-linux-gnu/libstdc++.so.6.0.25]\n",
      "    490  /build/glibc-OTsEL5/glibc-2.27/elf/./dl-map-segments.h:_dl_map_object_from_fd\n",
      "    487  /build/glibc-OTsEL5/glibc-2.27/string/../sysdeps/x86_64/multiarch/../strchr.S:index [/lib/x86_64-linux-gnu/ld-2.27.so]\n",
      "    479  /build/glibc-OTsEL5/glibc-2.27/libio/fileops.c:_IO_file_overflow@@GLIBC_2.2.5 [/lib/x86_64-linux-gnu/libc-2.27.so]\n",
      "    472  ???:std::ios_base::ios_base() [/usr/lib/x86_64-linux-gnu/libstdc++.so.6.0.25]\n",
      "    471  /build/glibc-OTsEL5/glibc-2.27/malloc/malloc.c:_int_malloc [/lib/x86_64-linux-gnu/libc-2.27.so]\n",
      "\n",
      "--------------------------------------------------------------------------------\n",
      "The following files chosen for auto-annotation could not be found:\n",
      "--------------------------------------------------------------------------------\n",
      "  /build/glibc-OTsEL5/glibc-2.27/wcsmbs/btowc.c\n",
      "  /build/glibc-OTsEL5/glibc-2.27/string/../sysdeps/x86/cacheinfo.c\n",
      "  /build/glibc-OTsEL5/glibc-2.27/elf/dl-tunables.c\n",
      "  /build/glibc-OTsEL5/glibc-2.27/string/../sysdeps/x86_64/multiarch/strlen-avx2.S\n"
     ]
    },
    {
     "name": "stdout",
     "output_type": "stream",
     "text": [
      "  /build/glibc-OTsEL5/glibc-2.27/elf/dl-hwcaps.c\n",
      "  /build/glibc-OTsEL5/glibc-2.27/string/../sysdeps/x86_64/multiarch/../strchr.S\n",
      "  /build/glibc-OTsEL5/glibc-2.27/elf/dl-misc.c\n",
      "  /build/glibc-OTsEL5/glibc-2.27/string/../sysdeps/x86_64/multiarch/../strlen.S\n",
      "  /build/glibc-OTsEL5/glibc-2.27/elf/get-dynamic-info.h\n",
      "  /build/glibc-OTsEL5/glibc-2.27/string/../sysdeps/x86_64/strcmp.S\n",
      "  /build/glibc-OTsEL5/glibc-2.27/misc/../sysdeps/unix/sysv/linux/mmap64.c\n",
      "  /build/glibc-OTsEL5/glibc-2.27/wcsmbs/./wcsmbsload.h\n",
      "  /build/glibc-OTsEL5/glibc-2.27/string/../bits/stdlib-bsearch.h\n",
      "  /build/glibc-OTsEL5/glibc-2.27/iconv/gconv_simple.c\n",
      "  /build/glibc-OTsEL5/glibc-2.27/malloc/malloc.c\n",
      "  /build/glibc-OTsEL5/glibc-2.27/elf/dl-sort-maps.c\n",
      "  /build/glibc-OTsEL5/glibc-2.27/elf/dl-object.c\n",
      "  /build/glibc-OTsEL5/glibc-2.27/elf/dl-minimal.c\n",
      "  /build/glibc-OTsEL5/glibc-2.27/string/../sysdeps/x86_64/multiarch/memset-vec-unaligned-erms.S\n",
      "  /build/glibc-OTsEL5/glibc-2.27/elf/dl-deps.c\n",
      "  /build/glibc-OTsEL5/glibc-2.27/elf/../sysdeps/x86_64/dl-trampoline.h\n",
      "  /build/glibc-OTsEL5/glibc-2.27/elf/dl-reloc.c\n",
      "  /build/glibc-OTsEL5/glibc-2.27/string/../sysdeps/x86_64/multiarch/memmove-vec-unaligned-erms.S\n",
      "  /build/glibc-OTsEL5/glibc-2.27/elf/./dl-map-segments.h\n",
      "  /build/glibc-OTsEL5/glibc-2.27/string/../sysdeps/x86_64/multiarch/memcmp-avx2-movbe.S\n",
      "  /build/glibc-OTsEL5/glibc-2.27/elf/dl-tunables.h\n",
      "  /build/glibc-OTsEL5/glibc-2.27/elf/../sysdeps/x86_64/dl-machine.h\n",
      "  /build/glibc-OTsEL5/glibc-2.27/elf/do-rel.h\n",
      "  /build/glibc-OTsEL5/glibc-2.27/stdlib/cxa_finalize.c\n",
      "  /build/glibc-OTsEL5/glibc-2.27/elf/rtld.c\n",
      "  /build/glibc-OTsEL5/glibc-2.27/elf/dl-profstub.c\n",
      "  /build/glibc-OTsEL5/glibc-2.27/elf/dl-cache.c\n",
      "  /build/glibc-OTsEL5/glibc-2.27/wctype/wctype_l.c\n",
      "  /build/glibc-OTsEL5/glibc-2.27/elf/dl-version.c\n",
      "  /build/glibc-OTsEL5/glibc-2.27/libio/fileops.c\n",
      "  /build/glibc-OTsEL5/glibc-2.27/elf/../sysdeps/generic/ldsodefs.h\n",
      "  /build/glibc-OTsEL5/glibc-2.27/wcsmbs/wctob.c\n",
      "  /build/glibc-OTsEL5/glibc-2.27/elf/dl-lookup.c\n",
      "  /build/glibc-OTsEL5/glibc-2.27/elf/dl-load.c\n",
      "  /build/glibc-OTsEL5/glibc-2.27/elf/../elf/dl-runtime.c\n",
      "  /build/glibc-OTsEL5/glibc-2.27/elf/dl-addr.c\n",
      "\n"
     ]
    }
   ],
   "source": [
    "callgrind_annotate --auto=yes callgrind.out.8038"
   ]
  },
  {
   "cell_type": "markdown",
   "metadata": {},
   "source": [
    "The Ir counts are basically the count of assembly instructions executed. A single C statement can translate to 1, 2, or several assembly instructions.\n",
    "\n",
    "```\n",
    "--------------------------------------------------------------------------------\n",
    "       Ir \n",
    "--------------------------------------------------------------------------------\n",
    "2,144,907  PROGRAM TOTALS\n",
    "```"
   ]
  },
  {
   "cell_type": "code",
   "execution_count": 21,
   "metadata": {},
   "outputs": [
    {
     "name": "stdout",
     "output_type": "stream",
     "text": [
      "--------------------------------------------------------------------------------\n",
      "Profile data file 'callgrind.out.8040' (creator: callgrind-3.13.0)\n",
      "--------------------------------------------------------------------------------\n",
      "I1 cache: 32768 B, 64 B, 8-way associative\n",
      "D1 cache: 32768 B, 64 B, 8-way associative\n",
      "LL cache: 8388608 B, 64 B, 16-way associative\n",
      "Timerange: Basic block 0 - 356790\n",
      "Trigger: Program termination\n",
      "Profiled target:  ./hello_world (PID 8040, part 1)\n",
      "Events recorded:  Ir Dr Dw I1mr D1mr D1mw ILmr DLmr DLmw\n",
      "Events shown:     Ir Dr Dw I1mr D1mr D1mw ILmr DLmr DLmw\n",
      "Event sort order: Ir Dr Dw I1mr D1mr D1mw ILmr DLmr DLmw\n",
      "Thresholds:       99 0 0 0 0 0 0 0 0\n",
      "Include dirs:     \n",
      "User annotated:   \n",
      "Auto-annotation:  on\n",
      "\n",
      "--------------------------------------------------------------------------------\n",
      "       Ir      Dr      Dw  I1mr   D1mr  D1mw  ILmr  DLmr  DLmw \n",
      "--------------------------------------------------------------------------------\n",
      "2,144,910 519,841 164,633 1,690 13,562 2,410 1,612 7,778 1,580  PROGRAM TOTALS\n",
      "\n",
      "--------------------------------------------------------------------------------\n",
      "     Ir      Dr     Dw I1mr  D1mr  D1mw ILmr  DLmr DLmw  file:function\n",
      "--------------------------------------------------------------------------------\n",
      "928,198 149,309 50,449   11 1,858    17   11 1,581    .  /build/glibc-OTsEL5/glibc-2.27/elf/dl-lookup.c:_dl_lookup_symbol_x [/lib/x86_64-linux-gnu/ld-2.27.so]\n",
      "606,848 219,020 65,883   39 4,097    30   39   968    1  /build/glibc-OTsEL5/glibc-2.27/elf/dl-lookup.c:do_lookup_x [/lib/x86_64-linux-gnu/ld-2.27.so]\n",
      "256,378  50,177 22,905   25 2,905 1,707   25 2,472  994  /build/glibc-OTsEL5/glibc-2.27/elf/../sysdeps/x86_64/dl-machine.h:_dl_relocate_object\n",
      " 85,538  29,182  6,568   15 2,281     0   15 1,386    .  /build/glibc-OTsEL5/glibc-2.27/elf/do-rel.h:_dl_relocate_object\n",
      " 73,390  18,550      0   56   170     0   48    57    .  /build/glibc-OTsEL5/glibc-2.27/string/../sysdeps/x86_64/strcmp.S:strcmp [/lib/x86_64-linux-gnu/ld-2.27.so]\n",
      " 59,305  14,228     19   11 1,081     1   10   900    .  /build/glibc-OTsEL5/glibc-2.27/elf/dl-addr.c:_dl_addr [/lib/x86_64-linux-gnu/libc-2.27.so]\n",
      " 10,954   3,182    272    8     2     0    8     .    .  ???:std::locale::_Impl::_M_install_facet(std::locale::id const*, std::locale::facet const*) [/usr/lib/x86_64-linux-gnu/libstdc++.so.6.0.25]\n",
      "  9,708   3,236      0    1     0     0    1     .    .  /build/glibc-OTsEL5/glibc-2.27/elf/../sysdeps/generic/ldsodefs.h:_dl_relocate_object\n",
      "  8,192   2,816  1,280    3     4     0    3     .    .  /build/glibc-OTsEL5/glibc-2.27/wcsmbs/btowc.c:btowc [/lib/x86_64-linux-gnu/libc-2.27.so]\n",
      "  8,172   1,589      8    7    12     2    7    12    2  /build/glibc-OTsEL5/glibc-2.27/elf/dl-tunables.c:__GI___tunables_init [/lib/x86_64-linux-gnu/ld-2.27.so]\n",
      "  6,801   2,335    719   19    69    50   19    65   49  /build/glibc-OTsEL5/glibc-2.27/elf/dl-version.c:_dl_check_map_versions [/lib/x86_64-linux-gnu/ld-2.27.so]\n",
      "  6,252   2,084      0    1     0     0    1     .    .  /build/glibc-OTsEL5/glibc-2.27/elf/../sysdeps/generic/ldsodefs.h:do_lookup_x\n",
      "  5,928   2,184    390    6   257     0    5    36    .  /build/glibc-OTsEL5/glibc-2.27/elf/../elf/dl-runtime.c:_dl_fixup [/lib/x86_64-linux-gnu/ld-2.27.so]\n",
      "  5,418   1,400    807    2    31     1    2     0    1  /build/glibc-OTsEL5/glibc-2.27/elf/dl-misc.c:_dl_name_match_p [/lib/x86_64-linux-gnu/ld-2.27.so]\n",
      "  3,200   1,152    768    2     0     0    2     .    .  /build/glibc-OTsEL5/glibc-2.27/wcsmbs/wctob.c:wctob [/lib/x86_64-linux-gnu/libc-2.27.so]\n",
      "  3,146     411    818    9     3    20    9     0   20  ???:std::ctype<wchar_t>::_M_initialize_ctype() [/usr/lib/x86_64-linux-gnu/libstdc++.so.6.0.25]\n",
      "  2,948     452      0    4    31     0    4    31    .  /build/glibc-OTsEL5/glibc-2.27/elf/dl-cache.c:_dl_cache_libcmp [/lib/x86_64-linux-gnu/ld-2.27.so]\n",
      "  2,560   3,008  3,264    0     1    13    0     0    1  /build/glibc-OTsEL5/glibc-2.27/elf/../sysdeps/x86_64/dl-trampoline.h:_dl_runtime_resolve_xsave'2 [/lib/x86_64-linux-gnu/ld-2.27.so]\n",
      "  2,496     912    528    4    17     0    4     .    .  ???:__dynamic_cast [/usr/lib/x86_64-linux-gnu/libstdc++.so.6.0.25]\n",
      "  2,198     524      0    0     8     0    0     8    .  /build/glibc-OTsEL5/glibc-2.27/elf/dl-tunables.h:__GI___tunables_init\n",
      "  2,194     407    216   29     5     5   29     1    5  /build/glibc-OTsEL5/glibc-2.27/elf/dl-deps.c:_dl_map_object_deps [/lib/x86_64-linux-gnu/ld-2.27.so]\n",
      "  2,094     498    283   25     3    17   25     3   17  /build/glibc-OTsEL5/glibc-2.27/elf/dl-load.c:_dl_map_object_from_fd [/lib/x86_64-linux-gnu/ld-2.27.so]\n",
      "  1,902     407    270   24     1     8   24     1    8  /build/glibc-OTsEL5/glibc-2.27/elf/dl-load.c:_dl_map_object [/lib/x86_64-linux-gnu/ld-2.27.so]\n",
      "  1,567     457    122   22     7     0   11     .    .  /build/glibc-OTsEL5/glibc-2.27/elf/dl-sort-maps.c:_dl_sort_maps [/lib/x86_64-linux-gnu/ld-2.27.so]\n",
      "  1,530     218    168    9    39    32    9    39   32  /build/glibc-OTsEL5/glibc-2.27/elf/get-dynamic-info.h:_dl_map_object_from_fd\n",
      "  1,400     440    360    4     0     0    4     .    .  ???:__cxxabiv1::__si_class_type_info::__do_dyncast(long, __cxxabiv1::__class_type_info::__sub_kind, __cxxabiv1::__class_type_info const*, void const*, __cxxabiv1::__class_type_info const*, void const*, __cxxabiv1::__class_type_info::__dyncast_result&) const [/usr/lib/x86_64-linux-gnu/libstdc++.so.6.0.25]\n",
      "  1,353     346    180   16    19     5   16    19    5  /build/glibc-OTsEL5/glibc-2.27/elf/dl-load.c:open_verify.constprop.7 [/lib/x86_64-linux-gnu/ld-2.27.so]\n",
      "  1,214     218    125   21    31     1   21    31    1  /build/glibc-OTsEL5/glibc-2.27/elf/dl-cache.c:_dl_load_cache_lookup [/lib/x86_64-linux-gnu/ld-2.27.so]\n",
      "  1,167     224    226   14     6    43   14     6   43  /build/glibc-OTsEL5/glibc-2.27/elf/dl-object.c:_dl_new_object [/lib/x86_64-linux-gnu/ld-2.27.so]\n",
      "  1,143     275    177    5     5     0    5     .    .  /build/glibc-OTsEL5/glibc-2.27/wctype/wctype_l.c:wctype_l [/lib/x86_64-linux-gnu/libc-2.27.so]\n",
      "  1,119     140      0    5     5     0    4     5    .  /build/glibc-OTsEL5/glibc-2.27/string/../sysdeps/x86_64/multiarch/strlen-avx2.S:__strlen_avx2 [/lib/x86_64-linux-gnu/libc-2.27.so]\n",
      "  1,110     357    171   14     1     5   14     1    5  /build/glibc-OTsEL5/glibc-2.27/elf/dl-load.c:open_path [/lib/x86_64-linux-gnu/ld-2.27.so]\n",
      "  1,101     167    455   78    43    50   78     1   49  ???:std::locale::_Impl::_Impl(unsigned long) [/usr/lib/x86_64-linux-gnu/libstdc++.so.6.0.25]\n",
      "  1,058     245      0    4     0     0    4     .    .  /build/glibc-OTsEL5/glibc-2.27/string/../sysdeps/x86_64/multiarch/memcmp-avx2-movbe.S:__memcmp_avx2_movbe [/lib/x86_64-linux-gnu/libc-2.27.so]\n",
      "  1,024     128      0    1     1     0    1     .    .  /build/glibc-OTsEL5/glibc-2.27/wcsmbs/./wcsmbsload.h:btowc\n",
      "  1,007     234    137   69    32    10   68    14    9  /build/glibc-OTsEL5/glibc-2.27/elf/rtld.c:dl_main [/lib/x86_64-linux-gnu/ld-2.27.so]\n",
      "    954     308     92    1     8     0    1     4    .  ???:std::locale::id::_M_id() const [/usr/lib/x86_64-linux-gnu/libstdc++.so.6.0.25]\n",
      "    886       2    132    3     0    35    3     0   34  /build/glibc-OTsEL5/glibc-2.27/malloc/malloc.c:ptmalloc_init.part.0\n",
      "    851     290    183   12    42     0   12     .    .  /build/glibc-OTsEL5/glibc-2.27/elf/dl-reloc.c:_dl_relocate_object [/lib/x86_64-linux-gnu/ld-2.27.so]\n",
      "    805     134    133    5     2     0    5     .    .  /build/glibc-OTsEL5/glibc-2.27/elf/dl-minimal.c:malloc [/lib/x86_64-linux-gnu/ld-2.27.so]\n",
      "    775      23    306    7     0    66    4     0   66  /build/glibc-OTsEL5/glibc-2.27/string/../sysdeps/x86_64/multiarch/memset-vec-unaligned-erms.S:memset [/lib/x86_64-linux-gnu/ld-2.27.so]\n",
      "    767     111     24    9     6     0    9     6    .  /build/glibc-OTsEL5/glibc-2.27/string/../sysdeps/x86/cacheinfo.c:intel_check_word.isra.0 [/lib/x86_64-linux-gnu/libc-2.27.so]\n",
      "    734     103      0    3     7     0    3     7    .  /build/glibc-OTsEL5/glibc-2.27/string/../sysdeps/x86_64/multiarch/../strlen.S:strlen [/lib/x86_64-linux-gnu/ld-2.27.so]\n",
      "    640     128      0    1     0     0    1     .    .  /build/glibc-OTsEL5/glibc-2.27/iconv/gconv_simple.c:__gconv_btwoc_ascii [/lib/x86_64-linux-gnu/libc-2.27.so]\n"
     ]
    },
    {
     "name": "stdout",
     "output_type": "stream",
     "text": [
      "    582       0      0    1     0     0    1     .    .  /build/glibc-OTsEL5/glibc-2.27/string/../bits/stdlib-bsearch.h:intel_check_word.isra.0\n",
      "    575     140     65    9     2     0    9     1    .  /build/glibc-OTsEL5/glibc-2.27/stdlib/cxa_finalize.c:__cxa_finalize [/lib/x86_64-linux-gnu/libc-2.27.so]\n",
      "    575      73     81   23     0     5   23     0    5  /build/glibc-OTsEL5/glibc-2.27/elf/dl-hwcaps.c:_dl_important_hwcaps [/lib/x86_64-linux-gnu/ld-2.27.so]\n",
      "    560     658    714    4     0     7    4     0    1  /build/glibc-OTsEL5/glibc-2.27/elf/../sysdeps/x86_64/dl-trampoline.h:_dl_runtime_resolve_xsave [/lib/x86_64-linux-gnu/ld-2.27.so]\n",
      "    556     117     96    3     0     5    3     0    5  /build/glibc-OTsEL5/glibc-2.27/misc/../sysdeps/unix/sysv/linux/mmap64.c:mmap [/lib/x86_64-linux-gnu/ld-2.27.so]\n",
      "    540     210    146    8     4     0    8     1    .  ???:__cxxabiv1::__vmi_class_type_info::__do_dyncast(long, __cxxabiv1::__class_type_info::__sub_kind, __cxxabiv1::__class_type_info const*, void const*, __cxxabiv1::__class_type_info const*, void const*, __cxxabiv1::__class_type_info::__dyncast_result&) const [/usr/lib/x86_64-linux-gnu/libstdc++.so.6.0.25]\n",
      "    529     148    110    7     5    19    5     5   19  /build/glibc-OTsEL5/glibc-2.27/string/../sysdeps/x86_64/multiarch/memmove-vec-unaligned-erms.S:memcpy [/lib/x86_64-linux-gnu/ld-2.27.so]\n",
      "    515     113     74    2     2     6    2     1    6  /build/glibc-OTsEL5/glibc-2.27/string/../sysdeps/x86_64/multiarch/memmove-vec-unaligned-erms.S:mempcpy [/lib/x86_64-linux-gnu/ld-2.27.so]\n",
      "    512     384      0    2     0     0    2     .    .  /build/glibc-OTsEL5/glibc-2.27/elf/dl-profstub.c:_dl_mcount_wrapper_check [/lib/x86_64-linux-gnu/libc-2.27.so]\n",
      "    506     176    176    4     1     2    4     0    1  ???:std::locale::locale() [/usr/lib/x86_64-linux-gnu/libstdc++.so.6.0.25]\n",
      "    490     142     62    7     0     1    7     0    1  /build/glibc-OTsEL5/glibc-2.27/elf/./dl-map-segments.h:_dl_map_object_from_fd\n",
      "    487      63      0    6     6     0    6     6    .  /build/glibc-OTsEL5/glibc-2.27/string/../sysdeps/x86_64/multiarch/../strchr.S:index [/lib/x86_64-linux-gnu/ld-2.27.so]\n",
      "    479     127     79    5     0     0    5     .    .  /build/glibc-OTsEL5/glibc-2.27/libio/fileops.c:_IO_file_overflow@@GLIBC_2.2.5 [/lib/x86_64-linux-gnu/libc-2.27.so]\n",
      "    472      16    208    3     0    31    3     0   26  ???:std::ios_base::ios_base() [/usr/lib/x86_64-linux-gnu/libstdc++.so.6.0.25]\n",
      "    471      67     80   38     9     2   26     1    2  /build/glibc-OTsEL5/glibc-2.27/malloc/malloc.c:_int_malloc [/lib/x86_64-linux-gnu/libc-2.27.so]\n",
      "\n",
      "--------------------------------------------------------------------------------\n",
      "The following files chosen for auto-annotation could not be found:\n",
      "--------------------------------------------------------------------------------\n",
      "  /build/glibc-OTsEL5/glibc-2.27/elf/dl-misc.c\n",
      "  /build/glibc-OTsEL5/glibc-2.27/elf/dl-lookup.c\n",
      "  /build/glibc-OTsEL5/glibc-2.27/elf/dl-version.c\n",
      "  /build/glibc-OTsEL5/glibc-2.27/elf/dl-profstub.c\n",
      "  /build/glibc-OTsEL5/glibc-2.27/string/../bits/stdlib-bsearch.h\n",
      "  /build/glibc-OTsEL5/glibc-2.27/elf/../sysdeps/generic/ldsodefs.h\n",
      "  /build/glibc-OTsEL5/glibc-2.27/elf/dl-reloc.c\n",
      "  /build/glibc-OTsEL5/glibc-2.27/elf/dl-tunables.c\n",
      "  /build/glibc-OTsEL5/glibc-2.27/elf/dl-hwcaps.c\n",
      "  /build/glibc-OTsEL5/glibc-2.27/misc/../sysdeps/unix/sysv/linux/mmap64.c\n",
      "  /build/glibc-OTsEL5/glibc-2.27/string/../sysdeps/x86_64/multiarch/../strchr.S\n",
      "  /build/glibc-OTsEL5/glibc-2.27/string/../sysdeps/x86_64/multiarch/memset-vec-unaligned-erms.S\n",
      "  /build/glibc-OTsEL5/glibc-2.27/string/../sysdeps/x86_64/multiarch/memmove-vec-unaligned-erms.S\n",
      "  /build/glibc-OTsEL5/glibc-2.27/elf/get-dynamic-info.h\n",
      "  /build/glibc-OTsEL5/glibc-2.27/string/../sysdeps/x86_64/strcmp.S\n",
      "  /build/glibc-OTsEL5/glibc-2.27/elf/rtld.c\n",
      "  /build/glibc-OTsEL5/glibc-2.27/elf/dl-sort-maps.c\n",
      "  /build/glibc-OTsEL5/glibc-2.27/string/../sysdeps/x86_64/multiarch/../strlen.S\n",
      "  /build/glibc-OTsEL5/glibc-2.27/elf/dl-deps.c\n",
      "  /build/glibc-OTsEL5/glibc-2.27/elf/dl-tunables.h\n",
      "  /build/glibc-OTsEL5/glibc-2.27/string/../sysdeps/x86/cacheinfo.c\n",
      "  /build/glibc-OTsEL5/glibc-2.27/string/../sysdeps/x86_64/multiarch/strlen-avx2.S\n",
      "  /build/glibc-OTsEL5/glibc-2.27/string/../sysdeps/x86_64/multiarch/memcmp-avx2-movbe.S\n",
      "  /build/glibc-OTsEL5/glibc-2.27/elf/dl-load.c\n",
      "  /build/glibc-OTsEL5/glibc-2.27/elf/dl-minimal.c\n",
      "  /build/glibc-OTsEL5/glibc-2.27/elf/dl-object.c\n",
      "  /build/glibc-OTsEL5/glibc-2.27/iconv/gconv_simple.c\n",
      "  /build/glibc-OTsEL5/glibc-2.27/libio/fileops.c\n",
      "  /build/glibc-OTsEL5/glibc-2.27/elf/../sysdeps/x86_64/dl-trampoline.h\n",
      "  /build/glibc-OTsEL5/glibc-2.27/wctype/wctype_l.c\n",
      "  /build/glibc-OTsEL5/glibc-2.27/elf/dl-cache.c\n",
      "  /build/glibc-OTsEL5/glibc-2.27/elf/dl-addr.c\n",
      "  /build/glibc-OTsEL5/glibc-2.27/elf/../sysdeps/x86_64/dl-machine.h\n",
      "  /build/glibc-OTsEL5/glibc-2.27/stdlib/cxa_finalize.c\n",
      "  /build/glibc-OTsEL5/glibc-2.27/elf/do-rel.h\n",
      "  /build/glibc-OTsEL5/glibc-2.27/wcsmbs/btowc.c\n",
      "  /build/glibc-OTsEL5/glibc-2.27/malloc/malloc.c\n",
      "  /build/glibc-OTsEL5/glibc-2.27/elf/../elf/dl-runtime.c\n",
      "  /build/glibc-OTsEL5/glibc-2.27/wcsmbs/./wcsmbsload.h\n",
      "  /build/glibc-OTsEL5/glibc-2.27/wcsmbs/wctob.c\n",
      "  /build/glibc-OTsEL5/glibc-2.27/elf/./dl-map-segments.h\n",
      "\n"
     ]
    }
   ],
   "source": [
    "callgrind_annotate --auto=yes callgrind.out.8040"
   ]
  },
  {
   "cell_type": "markdown",
   "metadata": {},
   "source": [
    "- Ir: I cache reads (instructions executed)\n",
    "- I1mr: I1 cache read misses (instruction wasn't in I1 cache but was in L2)\n",
    "- I2mr: L2 cache instruction read misses (instruction wasn't in I1 or L2 cache, had to be fetched from memory)\n",
    "- Dr: D cache reads (memory reads)\n",
    "- D1mr: D1 cache read misses (data location not in D1 cache, but in L2)\n",
    "- D2mr: L2 cache data read misses (location not in D1 or L2)\n",
    "- Dw: D cache writes (memory writes)\n",
    "- D1mw: D1 cache write misses (location not in D1 cache, but in L2)\n",
    "- D2mw: L2 cache data write misses (location not in D1 or L2)"
   ]
  },
  {
   "cell_type": "markdown",
   "metadata": {},
   "source": [
    "### You can limit callgrind to only count instructions within named functions by using the option --toggle-collect=function_name"
   ]
  },
  {
   "cell_type": "code",
   "execution_count": null,
   "metadata": {},
   "outputs": [],
   "source": []
  },
  {
   "cell_type": "code",
   "execution_count": null,
   "metadata": {},
   "outputs": [],
   "source": []
  },
  {
   "cell_type": "code",
   "execution_count": null,
   "metadata": {},
   "outputs": [],
   "source": []
  }
 ],
 "metadata": {
  "kernelspec": {
   "display_name": "Bash",
   "language": "bash",
   "name": "bash"
  },
  "language_info": {
   "codemirror_mode": "shell",
   "file_extension": ".sh",
   "mimetype": "text/x-sh",
   "name": "bash"
  }
 },
 "nbformat": 4,
 "nbformat_minor": 2
}
