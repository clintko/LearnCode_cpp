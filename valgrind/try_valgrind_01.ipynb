{
 "cells": [
  {
   "cell_type": "markdown",
   "metadata": {},
   "source": [
    "# Tutorial from [Youtude | C++ Weekly - Ep 86 - Valgrind](https://www.youtube.com/watch?v=3l0BQs2ThTo)"
   ]
  },
  {
   "cell_type": "markdown",
   "metadata": {},
   "source": [
    "valgrind can be used to run time memory detection. Below we have introduce the unintialize read of a value in function `void set_val`"
   ]
  },
  {
   "cell_type": "code",
   "execution_count": 15,
   "metadata": {},
   "outputs": [],
   "source": [
    "cat > try_valg01.cpp << EOF\n",
    "#include <iostream>\n",
    "\n",
    "void set_val(bool &b, const int val) {\n",
    "    if (val > 1) {\n",
    "        b = false;\n",
    "    } // end if\n",
    "} // end func\n",
    "\n",
    "int main(const int argc, const char *[]) {\n",
    "    bool b; // THE VALUE IS UNINTIALIZED\n",
    "    set_val(b, argc);\n",
    "    if (b) {\n",
    "        std::cout << \"value set\\n\";\n",
    "    } // end if\n",
    "} // end main\n",
    "\n",
    "EOF"
   ]
  },
  {
   "cell_type": "code",
   "execution_count": 16,
   "metadata": {},
   "outputs": [
    {
     "name": "stdout",
     "output_type": "stream",
     "text": [
      "#include <iostream>\n",
      "\n",
      "void set_val(bool &b, const int val) {\n",
      "    if (val > 1) {\n",
      "        b = false;\n",
      "    } // end if\n",
      "} // end func\n",
      "\n",
      "int main(const int argc, const char *[]) {\n",
      "    bool b; // THE VALUE IS UNINTIALIZED\n",
      "    set_val(b, argc);\n",
      "    if (b) {\n",
      "        std::cout << \"value set\\n\";\n",
      "    } // end if\n",
      "} // end main\n",
      "\n"
     ]
    }
   ],
   "source": [
    "cat try_valg01.cpp"
   ]
  },
  {
   "cell_type": "markdown",
   "metadata": {},
   "source": [
    "Compile and execute; as expected, no output from the program"
   ]
  },
  {
   "cell_type": "code",
   "execution_count": 17,
   "metadata": {},
   "outputs": [],
   "source": [
    "g++ try_valg01.cpp -o try_valg01.out\n",
    "./try_valg01.out"
   ]
  },
  {
   "cell_type": "markdown",
   "metadata": {},
   "source": [
    "valgrind will output a bunch of things. It tells us that a function is depend on uninitialized value\n",
    "\n",
    "<span style=\"color:blue\">**Conditional jump or move depends on uninitialised value(s)**</span>"
   ]
  },
  {
   "cell_type": "code",
   "execution_count": 18,
   "metadata": {},
   "outputs": [
    {
     "name": "stdout",
     "output_type": "stream",
     "text": [
      "==886== Memcheck, a memory error detector\n",
      "==886== Copyright (C) 2002-2015, and GNU GPL'd, by Julian Seward et al.\n",
      "==886== Using Valgrind-3.11.0 and LibVEX; rerun with -h for copyright info\n",
      "==886== Command: ./try_valg01.out\n",
      "==886== \n",
      "==886== error calling PR_SET_PTRACER, vgdb might block\n",
      "==886== Conditional jump or move depends on uninitialised value(s)\n",
      "==886==    at 0x108864: main (in /mnt/c/Users/clint/GitRepo/LearnCode_cpp/valgrind/try_valg01.out)\n",
      "==886== \n",
      "==886== \n",
      "==886== HEAP SUMMARY:\n",
      "==886==     in use at exit: 72,704 bytes in 1 blocks\n",
      "==886==   total heap usage: 1 allocs, 0 frees, 72,704 bytes allocated\n",
      "==886== \n",
      "==886== LEAK SUMMARY:\n",
      "==886==    definitely lost: 0 bytes in 0 blocks\n",
      "==886==    indirectly lost: 0 bytes in 0 blocks\n",
      "==886==      possibly lost: 0 bytes in 0 blocks\n",
      "==886==    still reachable: 72,704 bytes in 1 blocks\n",
      "==886==         suppressed: 0 bytes in 0 blocks\n",
      "==886== Rerun with --leak-check=full to see details of leaked memory\n",
      "==886== \n",
      "==886== For counts of detected and suppressed errors, rerun with: -v\n",
      "==886== Use --track-origins=yes to see where uninitialised values come from\n",
      "==886== ERROR SUMMARY: 1 errors from 1 contexts (suppressed: 0 from 0)\n"
     ]
    }
   ],
   "source": [
    "valgrind ./try_valg01.out"
   ]
  }
 ],
 "metadata": {
  "kernelspec": {
   "display_name": "Bash",
   "language": "bash",
   "name": "bash"
  },
  "language_info": {
   "codemirror_mode": "shell",
   "file_extension": ".sh",
   "mimetype": "text/x-sh",
   "name": "bash"
  }
 },
 "nbformat": 4,
 "nbformat_minor": 2
}
