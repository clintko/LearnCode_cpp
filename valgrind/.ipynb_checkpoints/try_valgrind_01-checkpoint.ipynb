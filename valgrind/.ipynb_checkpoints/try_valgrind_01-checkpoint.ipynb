{
 "cells": [
  {
   "cell_type": "markdown",
   "metadata": {},
   "source": [
    "# Tutorial from [Youtude | C++ Weekly - Ep 86 - Valgrind](https://www.youtube.com/watch?v=3l0BQs2ThTo)"
   ]
  },
  {
   "cell_type": "markdown",
   "metadata": {},
   "source": [
    "valgrind can be used to run time memory detection. Below we have introduce the unintialize read of a value in function `void set_val`"
   ]
  },
  {
   "cell_type": "code",
   "execution_count": 1,
   "metadata": {},
   "outputs": [],
   "source": [
    "cat > try_valg01.cpp << EOF\n",
    "#include <iostream>\n",
    "\n",
    "void set_val(bool &b, const int val) {\n",
    "    if (val > 1) {\n",
    "        b = false;\n",
    "    } // end if\n",
    "} // end func\n",
    "\n",
    "int main(const int argc, const char *[]) {\n",
    "    bool b; // THE VALUE IS UNINTIALIZED\n",
    "    set_val(b, argc);\n",
    "    if (b) {\n",
    "        std::cout << \"value set\\n\";\n",
    "    } // end if\n",
    "} // end main\n",
    "\n",
    "EOF"
   ]
  },
  {
   "cell_type": "code",
   "execution_count": 2,
   "metadata": {},
   "outputs": [
    {
     "name": "stdout",
     "output_type": "stream",
     "text": [
      "#include <iostream>\n",
      "\n",
      "void set_val(bool &b, const int val) {\n",
      "    if (val > 1) {\n",
      "        b = false;\n",
      "    } // end if\n",
      "} // end func\n",
      "\n",
      "int main(const int argc, const char *[]) {\n",
      "    bool b; // THE VALUE IS UNINTIALIZED\n",
      "    set_val(b, argc);\n",
      "    if (b) {\n",
      "        std::cout << \"value set\\n\";\n",
      "    } // end if\n",
      "} // end main\n",
      "\n"
     ]
    }
   ],
   "source": [
    "cat try_valg01.cpp"
   ]
  },
  {
   "cell_type": "markdown",
   "metadata": {},
   "source": [
    "Compile and execute; as expected, no output from the program"
   ]
  },
  {
   "cell_type": "code",
   "execution_count": 3,
   "metadata": {},
   "outputs": [],
   "source": [
    "g++ try_valg01.cpp -o try_valg01.out\n",
    "./try_valg01.out"
   ]
  },
  {
   "cell_type": "markdown",
   "metadata": {},
   "source": [
    "valgrind will output a bunch of things. It tells us that a function is depend on uninitialized value\n",
    "\n",
    "<span style=\"color:blue\">**Conditional jump or move depends on uninitialised value(s)**</span>"
   ]
  },
  {
   "cell_type": "code",
   "execution_count": 4,
   "metadata": {},
   "outputs": [
    {
     "name": "stdout",
     "output_type": "stream",
     "text": [
      "==4164== Memcheck, a memory error detector\n",
      "==4164== Copyright (C) 2002-2017, and GNU GPL'd, by Julian Seward et al.\n",
      "==4164== Using Valgrind-3.13.0 and LibVEX; rerun with -h for copyright info\n",
      "==4164== Command: ./try_valg01.out\n",
      "==4164== \n",
      "==4164== Conditional jump or move depends on uninitialised value(s)\n",
      "==4164==    at 0x1088BA: main (in /home/clint/GitRepo/LearnCode_cpp/valgrind/try_valg01.out)\n",
      "==4164== \n",
      "==4164== \n",
      "==4164== HEAP SUMMARY:\n",
      "==4164==     in use at exit: 0 bytes in 0 blocks\n",
      "==4164==   total heap usage: 1 allocs, 1 frees, 72,704 bytes allocated\n",
      "==4164== \n",
      "==4164== All heap blocks were freed -- no leaks are possible\n",
      "==4164== \n",
      "==4164== For counts of detected and suppressed errors, rerun with: -v\n",
      "==4164== Use --track-origins=yes to see where uninitialised values come from\n",
      "==4164== ERROR SUMMARY: 1 errors from 1 contexts (suppressed: 0 from 0)\n"
     ]
    }
   ],
   "source": [
    "valgrind ./try_valg01.out"
   ]
  },
  {
   "cell_type": "code",
   "execution_count": 5,
   "metadata": {},
   "outputs": [
    {
     "name": "stdout",
     "output_type": "stream",
     "text": [
      "QStandardPaths: XDG_RUNTIME_DIR not set, defaulting to '/tmp/runtime-clint'\n",
      "qt.qpa.screen: QXcbConnection: Could not connect to display \n",
      "Could not connect to any X display.\n"
     ]
    },
    {
     "ename": "",
     "evalue": "1",
     "output_type": "error",
     "traceback": []
    }
   ],
   "source": [
    "kcachegrind profile.callgrind"
   ]
  },
  {
   "cell_type": "code",
   "execution_count": 6,
   "metadata": {},
   "outputs": [
    {
     "name": "stdout",
     "output_type": "stream",
     "text": [
      "callgrind.out.1036  hello_world.cpp     try_valg01.out\n",
      "cpuload.cpp         try_gprof_01.ipynb  try_valgrind_01.ipynb\n",
      "hello_world         try_valg01.cpp      try_valgrind_02.ipynb\n"
     ]
    }
   ],
   "source": [
    "ls"
   ]
  }
 ],
 "metadata": {
  "kernelspec": {
   "display_name": "Bash",
   "language": "bash",
   "name": "bash"
  },
  "language_info": {
   "codemirror_mode": "shell",
   "file_extension": ".sh",
   "mimetype": "text/x-sh",
   "name": "bash"
  }
 },
 "nbformat": 4,
 "nbformat_minor": 2
}
