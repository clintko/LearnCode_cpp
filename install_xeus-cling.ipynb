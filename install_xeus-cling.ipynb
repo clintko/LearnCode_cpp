{
 "cells": [
  {
   "cell_type": "markdown",
   "metadata": {},
   "source": [
    "- https://github.com/QuantStack/xeus-cling\n",
    "- https://share.cocalc.com/share/4711033a-b5d8-4fb3-9708-e9019ba1c158/Install-xeus-cling-in-CoCalc-project.md?viewer=share"
   ]
  },
  {
   "cell_type": "markdown",
   "metadata": {},
   "source": [
    "```\n",
    "conda create -n cling\n",
    "source activate cling\n",
    "conda install xeus-cling -c conda-forge\n",
    "conda deactivate\n",
    "\n",
    "jupyter kernelspec install --user /opt/anaconda3/envs/cling/share/jupyter/kernels/xeus-cling-cpp11\n",
    "jupyter kernelspec install --user /opt/anaconda3/envs/cling/share/jupyter/kernels/xeus-cling-cpp14\n",
    "jupyter kernelspec install --user /opt/anaconda3/envs/cling/share/jupyter/kernels/xeus-cling-cpp17\n",
    "```"
   ]
  }
 ],
 "metadata": {
  "kernelspec": {
   "display_name": "Bash",
   "language": "bash",
   "name": "bash"
  },
  "language_info": {
   "codemirror_mode": "shell",
   "file_extension": ".sh",
   "mimetype": "text/x-sh",
   "name": "bash"
  }
 },
 "nbformat": 4,
 "nbformat_minor": 2
}
