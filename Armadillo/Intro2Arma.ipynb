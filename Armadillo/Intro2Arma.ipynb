{
 "cells": [
  {
   "cell_type": "markdown",
   "metadata": {},
   "source": [
    "Tutorial from [Youtube | Intro to Armadillo](https://www.youtube.com/watch?v=PRy8DmRRr6c)"
   ]
  },
  {
   "cell_type": "markdown",
   "metadata": {},
   "source": [
    "# Make sure I have Armadillo installed"
   ]
  },
  {
   "cell_type": "markdown",
   "metadata": {},
   "source": [
    "I basically follow the options \"Automatic installation based on Cmake\" mentioned in the [link](https://www.uio.no/studier/emner/matnat/fys/FYS4411/v13/guides/installing-armadillo/)"
   ]
  },
  {
   "cell_type": "code",
   "execution_count": 11,
   "metadata": {},
   "outputs": [],
   "source": [
    "cat > main.cpp << EOF\n",
    "#include <iostream>\n",
    "#include <armadillo>\n",
    "\n",
    "using namespace std;\n",
    "using namespace arma;\n",
    "\n",
    "int main(int argc, char** argv) {\n",
    "     cout << \"Hello Team Iris.\" << endl << \"Here's a program that does linear algebra.\" << endl;\n",
    "     cout << \"It is called Armadillo\" << endl;\n",
    "     return 0;\n",
    "} // end main\n",
    "EOF"
   ]
  },
  {
   "cell_type": "code",
   "execution_count": 12,
   "metadata": {},
   "outputs": [],
   "source": [
    "g++ main.cpp -o main.out"
   ]
  },
  {
   "cell_type": "code",
   "execution_count": 13,
   "metadata": {},
   "outputs": [
    {
     "name": "stdout",
     "output_type": "stream",
     "text": [
      "Hello Team Iris.\n",
      "Here's a program that does linear algebra.\n",
      "It is called Armadillo\n"
     ]
    }
   ],
   "source": [
    "./main.out"
   ]
  },
  {
   "cell_type": "markdown",
   "metadata": {},
   "source": [
    "# Create matrices using Armadillo\n",
    "Originally, the matrix will be created in heap instead of stack since C/C++ do not know what size of matrix the user is going to choose. However, it is not convenient to deal with memory allocation and the code may be quite verbose. This is why the library Armadillo is built for.\n",
    "\n",
    "I was stuck when using randn and randu in aramdillo\n",
    "I found that adding `#define ARMA_DONT_USE_WRAPPER` solve the problem. (look at linking in [FAQ](http://arma.sourceforge.net/faq.html))"
   ]
  },
  {
   "cell_type": "code",
   "execution_count": 88,
   "metadata": {},
   "outputs": [],
   "source": [
    "cat > main.cpp << EOF\n",
    "#include <iostream>\n",
    "\n",
    "#define ARMA_DONT_USE_WRAPPER\n",
    "#include <armadillo>\n",
    "\n",
    "using namespace std;\n",
    "using namespace arma;\n",
    "\n",
    "int main(int argc, char** argv){\n",
    "    int ncol = 5, nrow = 4;\n",
    "    cout << \"Please enter a number of columns adn rows for the matrix [5, 4]: \";\n",
    "    \n",
    "    /* since I am coding in jupyter, I cant get cin working; use argv instead */\n",
    "    //cin  >> ncol >> nrow;\n",
    "    ncol = atoi(argv[1]);\n",
    "    nrow = atoi(argv[2]);\n",
    "    \n",
    "    /* output the number of rows and columns */\n",
    "    cout << endl;\n",
    "    cout << \"ncol: \" << argv[1] << endl;\n",
    "    cout << \"nrow: \" << argv[2] << endl;\n",
    "    \n",
    "    /* create a matrix*/\n",
    "    arma::arma_rng::set_seed_random();\n",
    "    mat A(nrow, ncol, fill::randu);\n",
    "    //mat A(nrow, ncol, fill::zeros);\n",
    "    cout << \"A.n_rows = \" << A.n_rows << endl;\n",
    "    cout << \"A.n_cols = \" << A.n_cols << endl;\n",
    "    A.print(\"Matrix A is: \");\n",
    "    \n",
    "    /* creat another matrix */\n",
    "    //mat B = randn(nrow + 1, ncol);\n",
    "    //cout << \"Matrix B is: \" << endl << B;\n",
    "    \n",
    "    /* third matrix */\n",
    "    mat C(2, 2);\n",
    "    C.fill(123);\n",
    "    C.print(\"Matrix C is: \");\n",
    "    \n",
    "    /* forth matrix */\n",
    "    mat D(2, 2);\n",
    "    D << 1.1 << 1.2 << endr << 2.1 << 2.2 << endr;\n",
    "    D.print(\"Matrix D is \");\n",
    "    \n",
    "    /* fifth matrix */\n",
    "    mat E(3, 3);\n",
    "    E = \"1 2 3; 4 5 6; 7 8 9\";\n",
    "    E.print(\"Matrix E is \");\n",
    "    \n",
    "    \n",
    "    return 0;\n",
    "} // end func main\n",
    "EOF"
   ]
  },
  {
   "cell_type": "code",
   "execution_count": 89,
   "metadata": {},
   "outputs": [],
   "source": [
    "g++ main.cpp -o main.out"
   ]
  },
  {
   "cell_type": "code",
   "execution_count": 81,
   "metadata": {},
   "outputs": [
    {
     "name": "stdout",
     "output_type": "stream",
     "text": [
      "Please enter a number of columns adn rows for the matrix [5, 4]: \n",
      "ncol: 4\n",
      "nrow: 5\n",
      "A.n_rows = 5\n",
      "A.n_cols = 4\n",
      "Matrix A is: \n",
      "   0.7547   0.1568   0.5791   0.5366\n",
      "   0.0900   0.7964   0.0084   0.8630\n",
      "   0.8489   0.5110   0.4434   0.2808\n",
      "   0.6806   0.9842   0.2754   0.6062\n",
      "   0.9007   0.2247   0.7397   0.2129\n",
      "Matrix B is: \n",
      "   0.1223  -0.8598   0.6349  -0.8841\n",
      "   0.4203   1.0693   0.4365   0.3113\n",
      "  -0.8972   0.6016  -0.3350   0.6398\n",
      "   1.2400   1.3456   0.5537   0.2490\n",
      "   0.3690   0.8215   0.9749  -1.3826\n",
      "   1.8936  -0.2634   0.0456   0.2158\n",
      "Matrix C is: \n",
      "   1.2300e+02   1.2300e+02\n",
      "   1.2300e+02   1.2300e+02\n",
      "Matrix D is \n",
      "   1.1000   1.2000\n",
      "   2.1000   2.2000\n",
      "Matrix E is \n",
      "   1.0000   2.0000   3.0000\n",
      "   4.0000   5.0000   6.0000\n",
      "   7.0000   8.0000   9.0000\n"
     ]
    }
   ],
   "source": [
    "./main.out 4 5"
   ]
  },
  {
   "cell_type": "markdown",
   "metadata": {},
   "source": [
    "# Matrix operation"
   ]
  },
  {
   "cell_type": "code",
   "execution_count": 59,
   "metadata": {},
   "outputs": [],
   "source": [
    "cat > main.cpp << EOF \n",
    "#include <iostream>\n",
    "#define ARMA_DONT_USE_WRAPPER\n",
    "#include <armadillo>\n",
    "\n",
    "using namespace std;\n",
    "using namespace arma;\n",
    "\n",
    "int main(int argc, char** argv){\n",
    "    \n",
    "    mat A(3, 3, fill::ones);\n",
    "    A.print(\"Matrix A is\");\n",
    "    \n",
    "    mat B(3, 3);\n",
    "    B.fill(2);\n",
    "    B.print(\"Matrix B is\");\n",
    "    \n",
    "    mat C = A * B;\n",
    "    C.print(\"Matrix C is\");\n",
    "    \n",
    "    return 0;\n",
    "} // end main\n",
    "EOF"
   ]
  },
  {
   "cell_type": "code",
   "execution_count": 60,
   "metadata": {},
   "outputs": [
    {
     "name": "stdout",
     "output_type": "stream",
     "text": [
      "/tmp/ccRlHR8S.o: In function `void arma::blas::gemv<double>(char const*, int const*, int const*, double const*, double const*, int const*, double const*, int const*, double const*, double*, int const*)':\n",
      "main.cpp:(.text._ZN4arma4blas4gemvIdEEvPKcPKiS5_PKT_S8_S5_S8_S5_S8_PS6_S5_[_ZN4arma4blas4gemvIdEEvPKcPKiS5_PKT_S8_S5_S8_S5_S8_PS6_S5_]+0x55): undefined reference to `dgemv_'\n",
      "/tmp/ccRlHR8S.o: In function `void arma::blas::gemm<double>(char const*, char const*, int const*, int const*, int const*, double const*, double const*, int const*, double const*, int const*, double const*, double*, int const*)':\n",
      "main.cpp:(.text._ZN4arma4blas4gemmIdEEvPKcS3_PKiS5_S5_PKT_S8_S5_S8_S5_S8_PS6_S5_[_ZN4arma4blas4gemmIdEEvPKcS3_PKiS5_S5_PKT_S8_S5_S8_S5_S8_PS6_S5_]+0x5b): undefined reference to `dgemm_'\n",
      "collect2: error: ld returned 1 exit status\n"
     ]
    },
    {
     "ename": "",
     "evalue": "1",
     "output_type": "error",
     "traceback": []
    }
   ],
   "source": [
    "g++ main.cpp -o main.out"
   ]
  },
  {
   "cell_type": "code",
   "execution_count": 61,
   "metadata": {},
   "outputs": [],
   "source": [
    "g++ main.cpp -o main.out -O2 -larmadillo -llapack -lblas"
   ]
  },
  {
   "cell_type": "code",
   "execution_count": 62,
   "metadata": {},
   "outputs": [
    {
     "name": "stdout",
     "output_type": "stream",
     "text": [
      "Matrix A is\n",
      "   1.0000   1.0000   1.0000\n",
      "   1.0000   1.0000   1.0000\n",
      "   1.0000   1.0000   1.0000\n",
      "Matrix B is\n",
      "   2.0000   2.0000   2.0000\n",
      "   2.0000   2.0000   2.0000\n",
      "   2.0000   2.0000   2.0000\n",
      "Matrix C is\n",
      "   6.0000   6.0000   6.0000\n",
      "   6.0000   6.0000   6.0000\n",
      "   6.0000   6.0000   6.0000\n"
     ]
    }
   ],
   "source": [
    "./main.out"
   ]
  },
  {
   "cell_type": "code",
   "execution_count": null,
   "metadata": {},
   "outputs": [],
   "source": []
  },
  {
   "cell_type": "code",
   "execution_count": null,
   "metadata": {},
   "outputs": [],
   "source": []
  },
  {
   "cell_type": "code",
   "execution_count": null,
   "metadata": {},
   "outputs": [],
   "source": []
  },
  {
   "cell_type": "code",
   "execution_count": null,
   "metadata": {},
   "outputs": [],
   "source": []
  },
  {
   "cell_type": "code",
   "execution_count": null,
   "metadata": {},
   "outputs": [],
   "source": []
  },
  {
   "cell_type": "code",
   "execution_count": null,
   "metadata": {},
   "outputs": [],
   "source": []
  }
 ],
 "metadata": {
  "kernelspec": {
   "display_name": "Bash",
   "language": "bash",
   "name": "bash"
  },
  "language_info": {
   "codemirror_mode": "shell",
   "file_extension": ".sh",
   "mimetype": "text/x-sh",
   "name": "bash"
  }
 },
 "nbformat": 4,
 "nbformat_minor": 2
}
